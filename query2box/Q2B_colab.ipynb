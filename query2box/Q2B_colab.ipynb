{
  "nbformat": 4,
  "nbformat_minor": 0,
  "metadata": {
    "colab": {
      "name": "Q2B_colab.ipynb",
      "provenance": []
    },
    "language_info": {
      "name": "python"
    },
    "kernelspec": {
      "name": "python3",
      "display_name": "Python 3"
    },
    "accelerator": "GPU"
  },
  "cells": [
    {
      "cell_type": "markdown",
      "metadata": {
        "id": "HGRqn_YREFXk"
      },
      "source": [
        "## 환경세팅"
      ]
    },
    {
      "cell_type": "code",
      "metadata": {
        "id": "oMpA_B3SEB_R",
        "outputId": "caebd663-63a8-472e-b6fd-8897bf82e201",
        "colab": {
          "base_uri": "https://localhost:8080/"
        }
      },
      "source": [
        "# Add this in a Google Colab cell to install the correct version of Pytorch Geometric.\n",
        "import torch\n",
        "\n",
        "def format_pytorch_version(version):\n",
        "  return version.split('+')[0]\n",
        "\n",
        "TORCH_version = torch.__version__\n",
        "TORCH = format_pytorch_version(TORCH_version)\n",
        "print(TORCH)\n",
        "\n",
        "def format_cuda_version(version):\n",
        "  return 'cu' + version.replace('.', '')\n",
        "\n",
        "CUDA_version = torch.version.cuda\n",
        "CUDA = format_cuda_version(CUDA_version)\n",
        "print(CUDA)\n",
        "\n",
        "!pip install torch-scatter     -q -f https://pytorch-geometric.com/whl/torch-{TORCH}+{CUDA}.html\n",
        "!pip install torch-sparse      -q -f https://pytorch-geometric.com/whl/torch-{TORCH}+{CUDA}.html\n",
        "!pip install torch-cluster     -q -f https://pytorch-geometric.com/whl/torch-{TORCH}+{CUDA}.html\n",
        "!pip install torch-spline-conv -q -f https://pytorch-geometric.com/whl/torch-{TORCH}+{CUDA}.html\n",
        "!pip install -q torch-geometric\n",
        "!pip install -q git+https://github.com/snap-stanford/deepsnap.git"
      ],
      "execution_count": 1,
      "outputs": [
        {
          "output_type": "stream",
          "text": [
            "1.9.0\n",
            "cu102\n",
            "\u001b[K     |████████████████████████████████| 2.6MB 6.4MB/s \n",
            "\u001b[K     |████████████████████████████████| 1.4MB 6.1MB/s \n",
            "\u001b[K     |████████████████████████████████| 931kB 7.3MB/s \n",
            "\u001b[K     |████████████████████████████████| 389kB 6.8MB/s \n",
            "\u001b[K     |████████████████████████████████| 225kB 9.5MB/s \n",
            "\u001b[K     |████████████████████████████████| 235kB 15.6MB/s \n",
            "\u001b[K     |████████████████████████████████| 51kB 6.6MB/s \n",
            "\u001b[?25h  Building wheel for torch-geometric (setup.py) ... \u001b[?25l\u001b[?25hdone\n",
            "  Building wheel for deepsnap (setup.py) ... \u001b[?25l\u001b[?25hdone\n"
          ],
          "name": "stdout"
        }
      ]
    },
    {
      "cell_type": "code",
      "metadata": {
        "id": "CitW-jbGEUDj",
        "outputId": "abaf33ac-bf99-42e5-ab7a-4051501dfc41",
        "colab": {
          "base_uri": "https://localhost:8080/"
        }
      },
      "source": [
        "from google.colab import drive\n",
        "drive.mount('/content/drive')"
      ],
      "execution_count": 2,
      "outputs": [
        {
          "output_type": "stream",
          "text": [
            "Mounted at /content/drive\n"
          ],
          "name": "stdout"
        }
      ]
    },
    {
      "cell_type": "markdown",
      "metadata": {
        "id": "tt6NyiDzENsG"
      },
      "source": [
        "## Understand the Datasets"
      ]
    },
    {
      "cell_type": "code",
      "metadata": {
        "id": "TO83PGJ_FFNx"
      },
      "source": [
        "import os\n",
        "\n",
        "def get_file_path(root=\"/content/drive/MyDrive/data/FB15k-237\",\n",
        "                  file_name=\"ind2ent.pkl\"):\n",
        "    ## data path\n",
        "    file_path = root\n",
        "    pkl_name = file_name\n",
        "    pkl_file = os.path.join(file_path, pkl_name)\n",
        "\n",
        "    return pkl_file"
      ],
      "execution_count": 11,
      "outputs": []
    },
    {
      "cell_type": "code",
      "metadata": {
        "id": "gAYtzf8eEH9w"
      },
      "source": [
        "import pickle\n",
        "\n",
        "pkl_file = get_file_path(file_name=\"ind2ent.pkl\")\n",
        "with open(pkl_file, 'rb') as f:\n",
        "    ind2ent = pickle.load(f)\n",
        "\n",
        "pkl_file = get_file_path(file_name=\"ind2rel.pkl\")\n",
        "with open(pkl_file, 'rb') as f:\n",
        "    ind2rel = pickle.load(f)\n",
        "\n",
        "pkl_file = get_file_path(file_name=\"train_ans_2i.pkl\")\n",
        "with open(pkl_file, 'rb') as f:\n",
        "    train_ans_2i = pickle.load(f)"
      ],
      "execution_count": 27,
      "outputs": []
    },
    {
      "cell_type": "code",
      "metadata": {
        "id": "JucgFkbsERVY",
        "outputId": "8ab72670-325f-491e-c834-eafa36717e79",
        "colab": {
          "base_uri": "https://localhost:8080/"
        }
      },
      "source": [
        "# 두 pkl 모두 dict 형태입니다.\n",
        "type(ind2ent), type(ind2rel)"
      ],
      "execution_count": 25,
      "outputs": [
        {
          "output_type": "execute_result",
          "data": {
            "text/plain": [
              "(dict, dict)"
            ]
          },
          "metadata": {
            "tags": []
          },
          "execution_count": 25
        }
      ]
    },
    {
      "cell_type": "code",
      "metadata": {
        "id": "Sycjx5tjELZf",
        "outputId": "b5244d40-b528-489e-f955-c88fefdfe48e",
        "colab": {
          "base_uri": "https://localhost:8080/"
        }
      },
      "source": [
        "# 14505개의 entity를 가지고 있습니다.\n",
        "list(ind2ent.items())[:10]"
      ],
      "execution_count": 26,
      "outputs": [
        {
          "output_type": "execute_result",
          "data": {
            "text/plain": [
              "[(0, '/m/027rn'),\n",
              " (1, '/m/06cx9'),\n",
              " (2, '/m/017dcd'),\n",
              " (3, '/m/06v8s0'),\n",
              " (4, '/m/07s9rl0'),\n",
              " (5, '/m/0170z3'),\n",
              " (6, '/m/01sl1q'),\n",
              " (7, '/m/044mz_'),\n",
              " (8, '/m/0cnk2q'),\n",
              " (9, '/m/02nzb8')]"
            ]
          },
          "metadata": {
            "tags": []
          },
          "execution_count": 26
        }
      ]
    },
    {
      "cell_type": "code",
      "metadata": {
        "id": "0o36EaG8HwcN",
        "outputId": "b547fc1a-5ad9-42bf-b933-7064eb5bb5b5",
        "colab": {
          "base_uri": "https://localhost:8080/"
        }
      },
      "source": [
        "list(ind2ent.items())[-10:]"
      ],
      "execution_count": 23,
      "outputs": [
        {
          "output_type": "execute_result",
          "data": {
            "text/plain": [
              "[(14495, '/m/03ykjs9'),\n",
              " (14496, '/m/060m4'),\n",
              " (14497, '/m/04p4r'),\n",
              " (14498, '/m/017yzc'),\n",
              " (14499, '/m/021yyx'),\n",
              " (14500, '/m/01_30_'),\n",
              " (14501, '/m/02p4pt3'),\n",
              " (14502, '/m/09kqc'),\n",
              " (14503, '/m/04y41'),\n",
              " (14504, '/m/01tv5c')]"
            ]
          },
          "metadata": {
            "tags": []
          },
          "execution_count": 23
        }
      ]
    },
    {
      "cell_type": "code",
      "metadata": {
        "id": "zlP9f8B2F8hM",
        "outputId": "121a63c1-d529-44e0-9a61-fcb5311ba037",
        "colab": {
          "base_uri": "https://localhost:8080/"
        }
      },
      "source": [
        "# 총 474개의 relations를 가지고 있습니다.\n",
        "list(ind2rel.items())[:10]"
      ],
      "execution_count": 22,
      "outputs": [
        {
          "output_type": "execute_result",
          "data": {
            "text/plain": [
              "[(0, '/location/country/form_of_government'),\n",
              " (1, '/location/country/form_of_government_reverse'),\n",
              " (2, '/tv/tv_program/regular_cast./tv/regular_tv_appearance/actor'),\n",
              " (3, '/tv/tv_program/regular_cast./tv/regular_tv_appearance/actor_reverse'),\n",
              " (4, '/media_common/netflix_genre/titles'),\n",
              " (5, '/media_common/netflix_genre/titles_reverse'),\n",
              " (6, '/award/award_winner/awards_won./award/award_honor/award_winner'),\n",
              " (7, '/award/award_winner/awards_won./award/award_honor/award_winner_reverse'),\n",
              " (8,\n",
              "  '/soccer/football_team/current_roster./sports/sports_team_roster/position'),\n",
              " (9,\n",
              "  '/soccer/football_team/current_roster./sports/sports_team_roster/position_reverse')]"
            ]
          },
          "metadata": {
            "tags": []
          },
          "execution_count": 22
        }
      ]
    },
    {
      "cell_type": "code",
      "metadata": {
        "id": "493w3N3EHhos",
        "outputId": "06a79ab4-3779-452a-8336-120f2530601b",
        "colab": {
          "base_uri": "https://localhost:8080/"
        }
      },
      "source": [
        "list(ind2rel.items())[-10:]"
      ],
      "execution_count": 24,
      "outputs": [
        {
          "output_type": "execute_result",
          "data": {
            "text/plain": [
              "[(464, '/film/actor/dubbing_performances./film/dubbing_performance/language'),\n",
              " (465,\n",
              "  '/film/actor/dubbing_performances./film/dubbing_performance/language_reverse'),\n",
              " (466, '/broadcast/content/artist'),\n",
              " (467, '/broadcast/content/artist_reverse'),\n",
              " (468,\n",
              "  '/location/statistical_region/gni_per_capita_in_ppp_dollars./measurement_unit/dated_money_value/currency'),\n",
              " (469,\n",
              "  '/location/statistical_region/gni_per_capita_in_ppp_dollars./measurement_unit/dated_money_value/currency_reverse'),\n",
              " (470, '/music/instrument/family'),\n",
              " (471, '/music/instrument/family_reverse'),\n",
              " (472,\n",
              "  '/government/politician/government_positions_held./government/government_position_held/jurisdiction_of_office'),\n",
              " (473,\n",
              "  '/government/politician/government_positions_held./government/government_position_held/jurisdiction_of_office_reverse')]"
            ]
          },
          "metadata": {
            "tags": []
          },
          "execution_count": 24
        }
      ]
    },
    {
      "cell_type": "code",
      "metadata": {
        "id": "ucNlp9R3H0FR",
        "outputId": "f7c4c1f0-48f4-490a-efc1-23bffd8f857f",
        "colab": {
          "base_uri": "https://localhost:8080/"
        }
      },
      "source": [
        "# train data 중 2i 형태의 query를 확인해 보겠습니다.\n",
        "# key는 ()로 묶여있고 value는 {}로 묶여있습니다.\n",
        "list(train_ans_2i.items())[:5]"
      ],
      "execution_count": 29,
      "outputs": [
        {
          "output_type": "execute_result",
          "data": {
            "text/plain": [
              "[(((32, (411,)), (6463, (70,))), {1806, 2732}),\n",
              " (((382, (97,)), (4977, (47,))), {3219, 4859, 11863}),\n",
              " (((124, (471,)), (1241, (150,))), {1462, 3439, 3702, 4203, 7891}),\n",
              " (((3482, (35,)), (6123, (97,))), {6122, 6744}),\n",
              " (((1164, (271,)), (3547, (48,))), {705})]"
            ]
          },
          "metadata": {
            "tags": []
          },
          "execution_count": 29
        }
      ]
    },
    {
      "cell_type": "code",
      "metadata": {
        "id": "SsP02WKzJTeL",
        "outputId": "eb07d7d5-5431-436e-f52e-9bd84de884a0",
        "colab": {
          "base_uri": "https://localhost:8080/"
        }
      },
      "source": [
        "ind2ent[32], ind2rel[411]"
      ],
      "execution_count": 32,
      "outputs": [
        {
          "output_type": "execute_result",
          "data": {
            "text/plain": [
              "('/m/09c7w0',\n",
              " '/location/administrative_division/first_level_division_of_reverse')"
            ]
          },
          "metadata": {
            "tags": []
          },
          "execution_count": 32
        }
      ]
    },
    {
      "cell_type": "code",
      "metadata": {
        "id": "P7LWY3bXJyHA",
        "outputId": "4d8f2905-17e5-4365-af34-2680c5f55057",
        "colab": {
          "base_uri": "https://localhost:8080/"
        }
      },
      "source": [
        "ind2ent[6463], ind2rel[70]"
      ],
      "execution_count": 33,
      "outputs": [
        {
          "output_type": "execute_result",
          "data": {
            "text/plain": [
              "('/m/04h1rz',\n",
              " '/government/legislative_session/members./government/government_position_held/district_represented')"
            ]
          },
          "metadata": {
            "tags": []
          },
          "execution_count": 33
        }
      ]
    },
    {
      "cell_type": "code",
      "metadata": {
        "id": "AhrDqUTgJ95y",
        "outputId": "8dd2c5b1-05b9-46c7-c0c7-6b04cbb3f7b8",
        "colab": {
          "base_uri": "https://localhost:8080/"
        }
      },
      "source": [
        "ind2ent[1806], ind2ent[2732]"
      ],
      "execution_count": 34,
      "outputs": [
        {
          "output_type": "execute_result",
          "data": {
            "text/plain": [
              "('/m/05k7sb', '/m/081mh')"
            ]
          },
          "metadata": {
            "tags": []
          },
          "execution_count": 34
        }
      ]
    }
  ]
}