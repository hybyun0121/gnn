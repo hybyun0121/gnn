{
  "nbformat": 4,
  "nbformat_minor": 0,
  "metadata": {
    "colab": {
      "name": "what_is_torch_scatter.ipynb",
      "provenance": [],
      "authorship_tag": "ABX9TyNkn1qZ8NFZkyxZ7OgdwvTl",
      "include_colab_link": true
    },
    "kernelspec": {
      "name": "python3",
      "display_name": "Python 3"
    },
    "language_info": {
      "name": "python"
    }
  },
  "cells": [
    {
      "cell_type": "markdown",
      "metadata": {
        "id": "view-in-github",
        "colab_type": "text"
      },
      "source": [
        "<a href=\"https://colab.research.google.com/github/hybyun0121/gnn/blob/main/cs224w/what_is_torch_scatter.ipynb\" target=\"_parent\"><img src=\"https://colab.research.google.com/assets/colab-badge.svg\" alt=\"Open In Colab\"/></a>"
      ]
    },
    {
      "cell_type": "code",
      "metadata": {
        "colab": {
          "base_uri": "https://localhost:8080/"
        },
        "id": "sob8SV8q7b-q",
        "outputId": "b3e0f65f-a2d6-4d81-d888-e5f4b897e838"
      },
      "source": [
        "# Add this in a Google Colab cell to install the correct version of Pytorch Geometric.\n",
        "import torch\n",
        "\n",
        "def format_pytorch_version(version):\n",
        "  return version.split('+')[0]\n",
        "\n",
        "TORCH_version = torch.__version__\n",
        "TORCH = format_pytorch_version(TORCH_version)\n",
        "print(TORCH)\n",
        "\n",
        "def format_cuda_version(version):\n",
        "  return 'cu' + version.replace('.', '')\n",
        "\n",
        "CUDA_version = torch.version.cuda\n",
        "CUDA = format_cuda_version(CUDA_version)\n",
        "print(CUDA)\n",
        "\n",
        "!pip install torch-scatter     -q -f https://pytorch-geometric.com/whl/torch-{TORCH}+{CUDA}.html\n",
        "!pip install torch-sparse      -q -f https://pytorch-geometric.com/whl/torch-{TORCH}+{CUDA}.html\n",
        "!pip install torch-cluster     -q -f https://pytorch-geometric.com/whl/torch-{TORCH}+{CUDA}.html\n",
        "!pip install torch-spline-conv -q -f https://pytorch-geometric.com/whl/torch-{TORCH}+{CUDA}.html\n",
        "!pip install -q torch-geometric\n",
        "!pip install -q git+https://github.com/snap-stanford/deepsnap.git"
      ],
      "execution_count": 1,
      "outputs": [
        {
          "output_type": "stream",
          "text": [
            "1.9.0\n",
            "cu102\n",
            "\u001b[K     |████████████████████████████████| 2.6MB 1.6MB/s \n",
            "\u001b[K     |████████████████████████████████| 1.4MB 2.8MB/s \n",
            "\u001b[K     |████████████████████████████████| 931kB 4.2MB/s \n",
            "\u001b[K     |████████████████████████████████| 389kB 5.0MB/s \n",
            "\u001b[K     |████████████████████████████████| 225kB 6.8MB/s \n",
            "\u001b[K     |████████████████████████████████| 235kB 8.9MB/s \n",
            "\u001b[K     |████████████████████████████████| 51kB 5.2MB/s \n",
            "\u001b[?25h  Building wheel for torch-geometric (setup.py) ... \u001b[?25l\u001b[?25hdone\n",
            "  Building wheel for deepsnap (setup.py) ... \u001b[?25l\u001b[?25hdone\n"
          ],
          "name": "stdout"
        }
      ]
    },
    {
      "cell_type": "code",
      "metadata": {
        "id": "shCYlfqe7h7d"
      },
      "source": [
        "import torch\n",
        "import torch_scatter\n",
        "\n",
        "import torch_geometric\n",
        "import torch_geometric.nn as pyg_nn\n",
        "import torch_geometric.utils as pyg_utils\n",
        "from torch_geometric.data import Data"
      ],
      "execution_count": 3,
      "outputs": []
    },
    {
      "cell_type": "code",
      "metadata": {
        "id": "xraIpuEc9Eyn"
      },
      "source": [
        "%matplotlib inline\n",
        "import networkx as nx\n",
        "import matplotlib.pyplot as plt"
      ],
      "execution_count": 16,
      "outputs": []
    },
    {
      "cell_type": "code",
      "metadata": {
        "id": "EbYFWZYQ7rvE"
      },
      "source": [
        "edge_index = torch.tensor([[0,0,0,1,2,2,3,3],\n",
        "                           [1,2,3,0,0,3,0,2]], dtype=torch.long)\n",
        "x = torch.tensor([[10,10,10],\n",
        "                  [11,11,11],\n",
        "                  [12,12,12],\n",
        "                  [13,13,13]], dtype=torch.float)"
      ],
      "execution_count": 4,
      "outputs": []
    },
    {
      "cell_type": "code",
      "metadata": {
        "id": "qe5pmOtN8qjV"
      },
      "source": [
        "data = Data(x=x, edge_index=edge_index)"
      ],
      "execution_count": 5,
      "outputs": []
    },
    {
      "cell_type": "code",
      "metadata": {
        "id": "SLgX6iuc8vwm"
      },
      "source": [
        "from torch_geometric.utils import to_networkx\n",
        "\n",
        "G = to_networkx(data, to_undirected=True)"
      ],
      "execution_count": 17,
      "outputs": []
    },
    {
      "cell_type": "code",
      "metadata": {
        "colab": {
          "base_uri": "https://localhost:8080/",
          "height": 248
        },
        "id": "OWgYjoWz9HiI",
        "outputId": "47424a8c-83fc-44a9-98ba-4f1715f40e82"
      },
      "source": [
        "nx.draw_networkx(G, pos=nx.spring_layout(G, seed=42), with_labels=True,\n",
        "                         node_color=range(x.shape[0]), cmap=\"Set2\")"
      ],
      "execution_count": 15,
      "outputs": [
        {
          "output_type": "display_data",
          "data": {
            "image/png": "[encoded data removed]",
            "text/plain": [
              "<Figure size 432x288 with 1 Axes>"
            ]
          },
          "metadata": {
            "tags": []
          }
        }
      ]
    },
    {
      "cell_type": "code",
      "metadata": {
        "colab": {
          "base_uri": "https://localhost:8080/"
        },
        "id": "I8El6qIW-mP7",
        "outputId": "b981847f-571b-4d6f-9add-cd7479727fa5"
      },
      "source": [
        "x"
      ],
      "execution_count": 21,
      "outputs": [
        {
          "output_type": "execute_result",
          "data": {
            "text/plain": [
              "tensor([[10., 10., 10.],\n",
              "        [11., 11., 11.],\n",
              "        [12., 12., 12.],\n",
              "        [13., 13., 13.]])"
            ]
          },
          "metadata": {
            "tags": []
          },
          "execution_count": 21
        }
      ]
    },
    {
      "cell_type": "code",
      "metadata": {
        "id": "Gk_4hbfL-QO-"
      },
      "source": [
        "inputs = torch.tensor([[10., 10., 10.],\n",
        "                       [10., 10., 10.],\n",
        "                       [10., 10., 10.],\n",
        "                       [11., 11., 11.],\n",
        "                       [12., 12., 12.],\n",
        "                       [12., 12., 12.],\n",
        "                       [13., 13., 13.],\n",
        "                       [13., 13., 13.]])"
      ],
      "execution_count": 25,
      "outputs": []
    },
    {
      "cell_type": "code",
      "metadata": {
        "colab": {
          "base_uri": "https://localhost:8080/"
        },
        "id": "Yw5wlvaq-K6e",
        "outputId": "bff1d647-7698-4e35-c211-012691b0884f"
      },
      "source": [
        "index = edge_index[1]\n",
        "print(index)"
      ],
      "execution_count": 30,
      "outputs": [
        {
          "output_type": "stream",
          "text": [
            "tensor([1, 2, 3, 0, 0, 3, 0, 2])\n"
          ],
          "name": "stdout"
        }
      ]
    },
    {
      "cell_type": "code",
      "metadata": {
        "colab": {
          "base_uri": "https://localhost:8080/"
        },
        "id": "4jwygWoQ9-JP",
        "outputId": "c628d45c-c670-4394-ce02-f38e686ec12d"
      },
      "source": [
        "torch_scatter.scatter(src=inputs,\n",
        "                      index=index,\n",
        "                      dim=-2,\n",
        "                      reduce='sum')"
      ],
      "execution_count": 28,
      "outputs": [
        {
          "output_type": "execute_result",
          "data": {
            "text/plain": [
              "tensor([[36., 36., 36.],\n",
              "        [10., 10., 10.],\n",
              "        [23., 23., 23.],\n",
              "        [22., 22., 22.]])"
            ]
          },
          "metadata": {
            "tags": []
          },
          "execution_count": 28
        }
      ]
    },
    {
      "cell_type": "markdown",
      "metadata": {
        "id": "n6RHZ4yNAxNT"
      },
      "source": [
        "### torch_scatter.scatter의 내부 동작 원리 간단 설명\n",
        "index_col에 같은 원소들끼리 대응되는 inputs의 원소들을 가지고 연산(sum or mena)을 수행합니다.  \n",
        "그리고 index_col의 원소 값이 새로운 tensor의 index가 됩니다.  \n",
        "아래 예시를 통해 좀 더 이해를 쉽게 할 수 있습니다."
      ]
    },
    {
      "cell_type": "code",
      "metadata": {
        "colab": {
          "base_uri": "https://localhost:8080/"
        },
        "id": "6e31m3xA_k7u",
        "outputId": "35ee247f-d434-4638-c799-3a4668dc0997"
      },
      "source": [
        "# (v, u) 중 u 노드들만 일렬로 나타냅니다.\n",
        "index_col = index.unsqueeze(-1)\n",
        "index_col"
      ],
      "execution_count": 59,
      "outputs": [
        {
          "output_type": "execute_result",
          "data": {
            "text/plain": [
              "tensor([[1],\n",
              "        [2],\n",
              "        [3],\n",
              "        [0],\n",
              "        [0],\n",
              "        [3],\n",
              "        [0],\n",
              "        [2]])"
            ]
          },
          "metadata": {
            "tags": []
          },
          "execution_count": 59
        }
      ]
    },
    {
      "cell_type": "code",
      "metadata": {
        "colab": {
          "base_uri": "https://localhost:8080/"
        },
        "id": "wXioPOiHBFej",
        "outputId": "c42d01ce-3caa-4398-d7f6-a1f0855617ee"
      },
      "source": [
        "# features 크기 만큼 확장시킵니다.\n",
        "exp_index_col = index_col.expand_as(inputs)\n",
        "exp_index_col"
      ],
      "execution_count": 60,
      "outputs": [
        {
          "output_type": "execute_result",
          "data": {
            "text/plain": [
              "tensor([[1, 1, 1],\n",
              "        [2, 2, 2],\n",
              "        [3, 3, 3],\n",
              "        [0, 0, 0],\n",
              "        [0, 0, 0],\n",
              "        [3, 3, 3],\n",
              "        [0, 0, 0],\n",
              "        [2, 2, 2]])"
            ]
          },
          "metadata": {
            "tags": []
          },
          "execution_count": 60
        }
      ]
    },
    {
      "cell_type": "code",
      "metadata": {
        "colab": {
          "base_uri": "https://localhost:8080/"
        },
        "id": "ylxYlZ0mBSrX",
        "outputId": "db2283a6-88fe-4add-f0be-8a258ff95716"
      },
      "source": [
        "# shape이 (# of nodes, features) 인 zeor matrix 하나를 만들어줍니다.\n",
        "out = torch.zeros(inputs.shape[0]//2, inputs.shape[1], dtype=inputs.dtype)\n",
        "out"
      ],
      "execution_count": 63,
      "outputs": [
        {
          "output_type": "execute_result",
          "data": {
            "text/plain": [
              "tensor([[0., 0., 0.],\n",
              "        [0., 0., 0.],\n",
              "        [0., 0., 0.],\n",
              "        [0., 0., 0.]])"
            ]
          },
          "metadata": {
            "tags": []
          },
          "execution_count": 63
        }
      ]
    },
    {
      "cell_type": "code",
      "metadata": {
        "colab": {
          "base_uri": "https://localhost:8080/"
        },
        "id": "iTbysXOUBiNC",
        "outputId": "43d9ff93-3a3e-4b12-cb5f-550850eb810c"
      },
      "source": [
        "out.scatter_add_(-2, exp_index_col, inputs)"
      ],
      "execution_count": 64,
      "outputs": [
        {
          "output_type": "execute_result",
          "data": {
            "text/plain": [
              "tensor([[36., 36., 36.],\n",
              "        [10., 10., 10.],\n",
              "        [23., 23., 23.],\n",
              "        [22., 22., 22.]])"
            ]
          },
          "metadata": {
            "tags": []
          },
          "execution_count": 64
        }
      ]
    }
  ]
}