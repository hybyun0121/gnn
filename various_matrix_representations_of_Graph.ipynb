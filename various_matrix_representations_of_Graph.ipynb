{
  "nbformat": 4,
  "nbformat_minor": 0,
  "metadata": {
    "colab": {
      "name": "various_matrix_representations_of_Graph.ipynb",
      "provenance": [],
      "include_colab_link": true
    },
    "kernelspec": {
      "name": "python3",
      "display_name": "Python 3"
    },
    "language_info": {
      "name": "python"
    }
  },
  "cells": [
    {
      "cell_type": "markdown",
      "metadata": {
        "id": "view-in-github",
        "colab_type": "text"
      },
      "source": [
        "<a href=\"https://colab.research.google.com/github/hybyun0121/gnn/blob/main/various_matrix_representations_of_Graph.ipynb\" target=\"_parent\"><img src=\"https://colab.research.google.com/assets/colab-badge.svg\" alt=\"Open In Colab\"/></a>"
      ]
    },
    {
      "cell_type": "markdown",
      "metadata": {
        "id": "JnUcER5kxP1F"
      },
      "source": [
        "## Graph에서 다양한 행렬 표현\n",
        "행렬의 elements들에 대한 자세한 설명은 \n",
        "[Notion_link](https://www.notion.so/Algebra-Representations-of-Graphs-e511330048874e74b6b55678c1767fad)에 있습니다."
      ]
    },
    {
      "cell_type": "code",
      "metadata": {
        "id": "cLfdDOGThFS7"
      },
      "source": [
        "import numpy as np\n",
        "import matplotlib.pyplot as plt\n",
        "from scipy.sparse import coo_matrix\n",
        "\n",
        "import networkx as nx\n",
        "import warnings\n",
        "warnings.filterwarnings('ignore')"
      ],
      "execution_count": null,
      "outputs": []
    },
    {
      "cell_type": "code",
      "metadata": {
        "id": "vEXO27qyinN9"
      },
      "source": [
        "# Adjacency matrix를 하나 정의하겠습니다.\n",
        "Adj = np.array([[0,1,1,1],\n",
        "                [1,0,1,1],\n",
        "                [1,1,0,0],\n",
        "                [1,1,0,0]])\n",
        "\n",
        "# 뒤에 수식 표현을 위해 간단한 문제 하나 저장해 두겠습니다.\n",
        "A = Adj.copy()"
      ],
      "execution_count": null,
      "outputs": []
    },
    {
      "cell_type": "code",
      "metadata": {
        "colab": {
          "base_uri": "https://localhost:8080/"
        },
        "id": "qAPuzUhdlv3F",
        "outputId": "6f4c1f6f-d6a1-4bde-cb0c-c146b97e6163"
      },
      "source": [
        "# node index\n",
        "nodes = list(range(len(Adj)))\n",
        "nodes"
      ],
      "execution_count": null,
      "outputs": [
        {
          "output_type": "execute_result",
          "data": {
            "text/plain": [
              "[0, 1, 2, 3]"
            ]
          },
          "metadata": {
            "tags": []
          },
          "execution_count": 32
        }
      ]
    },
    {
      "cell_type": "code",
      "metadata": {
        "colab": {
          "base_uri": "https://localhost:8080/"
        },
        "id": "oueABGMWskvK",
        "outputId": "d59ae8e1-8932-4c3c-d5f7-a6e5f7cdc505"
      },
      "source": [
        "def adj2edge(adj):\n",
        "    coo = coo_matrix(adj)\n",
        "    head = coo.row\n",
        "    tail = coo.col\n",
        "    edge = []\n",
        "    for i in range(len(head)):\n",
        "        edge.append((head[i], tail[i]))\n",
        "    return edge\n",
        "\n",
        "# edges\n",
        "edges = adj2edge(Adj)\n",
        "print(edges)"
      ],
      "execution_count": null,
      "outputs": [
        {
          "output_type": "stream",
          "text": [
            "[(0, 1), (0, 2), (0, 3), (1, 0), (1, 2), (1, 3), (2, 0), (2, 1), (3, 0), (3, 1)]\n"
          ],
          "name": "stdout"
        }
      ]
    },
    {
      "cell_type": "code",
      "metadata": {
        "colab": {
          "base_uri": "https://localhost:8080/"
        },
        "id": "CK1Sj4iUnZZg",
        "outputId": "f985a036-c688-4e7e-f67c-837ea535b1f0"
      },
      "source": [
        "def node_degree(adj):\n",
        "    num_nodes = len(adj)\n",
        "    d_v = np.eye(N=num_nodes)\n",
        "\n",
        "    for i in range(len(adj)):\n",
        "        d_v[i][i] = np.sum(adj[i][:])\n",
        "    return d_v\n",
        "\n",
        "# Degree matrix\n",
        "D = node_degree(Adj)\n",
        "print(D)"
      ],
      "execution_count": null,
      "outputs": [
        {
          "output_type": "stream",
          "text": [
            "[[3. 0. 0. 0.]\n",
            " [0. 3. 0. 0.]\n",
            " [0. 0. 2. 0.]\n",
            " [0. 0. 0. 2.]]\n"
          ],
          "name": "stdout"
        }
      ]
    },
    {
      "cell_type": "code",
      "metadata": {
        "id": "w9EBJobbhLu8"
      },
      "source": [
        "G = nx.Graph()\n",
        "G.add_nodes_from(nodes)\n",
        "G.add_edges_from(edges)"
      ],
      "execution_count": null,
      "outputs": []
    },
    {
      "cell_type": "code",
      "metadata": {
        "colab": {
          "base_uri": "https://localhost:8080/",
          "height": 319
        },
        "id": "sb-yOa4vmNIR",
        "outputId": "d9f72c24-ea96-4b11-c38e-4d574ae14400"
      },
      "source": [
        "# 출력할때 마다 모양이 조금씩 달라집니다.\n",
        "# 하지만 당연히도 노드간의 연결성은 변하지 않습니다.\n",
        "nx.draw(G, with_labels=True)"
      ],
      "execution_count": null,
      "outputs": [
        {
          "output_type": "display_data",
          "data": {
            "image/png": "[encoded data removed]",
            "text/plain": [
              "<Figure size 432x288 with 1 Axes>"
            ]
          },
          "metadata": {
            "tags": []
          }
        }
      ]
    },
    {
      "cell_type": "markdown",
      "metadata": {
        "id": "5ef5w8mctSpz"
      },
      "source": [
        "### Graph를 표현하는 다양한 Matirx"
      ]
    },
    {
      "cell_type": "code",
      "metadata": {
        "colab": {
          "base_uri": "https://localhost:8080/"
        },
        "id": "dV_1--memqCo",
        "outputId": "50ed6203-b314-46c3-8f4a-8ec0d489f5c2"
      },
      "source": [
        "# Adjacency matrix\n",
        "A"
      ],
      "execution_count": null,
      "outputs": [
        {
          "output_type": "execute_result",
          "data": {
            "text/plain": [
              "array([[0, 1, 1, 1],\n",
              "       [1, 0, 1, 1],\n",
              "       [1, 1, 0, 0],\n",
              "       [1, 1, 0, 0]])"
            ]
          },
          "metadata": {
            "tags": []
          },
          "execution_count": 86
        }
      ]
    },
    {
      "cell_type": "code",
      "metadata": {
        "colab": {
          "base_uri": "https://localhost:8080/"
        },
        "id": "CcvHUh1LoafW",
        "outputId": "5bb94deb-7bab-4308-daa9-621abe10dedf"
      },
      "source": [
        "# Degree matrix\n",
        "D"
      ],
      "execution_count": null,
      "outputs": [
        {
          "output_type": "execute_result",
          "data": {
            "text/plain": [
              "array([[3., 0., 0., 0.],\n",
              "       [0., 3., 0., 0.],\n",
              "       [0., 0., 2., 0.],\n",
              "       [0., 0., 0., 2.]])"
            ]
          },
          "metadata": {
            "tags": []
          },
          "execution_count": 87
        }
      ]
    },
    {
      "cell_type": "code",
      "metadata": {
        "id": "D5lQqin-ogeO"
      },
      "source": [
        "# Laplacian matrix\n",
        "Lap = D - A\n",
        "L = Lap.copy()"
      ],
      "execution_count": null,
      "outputs": []
    },
    {
      "cell_type": "code",
      "metadata": {
        "colab": {
          "base_uri": "https://localhost:8080/"
        },
        "id": "8axu60_VolRI",
        "outputId": "ff411766-1b19-4f9d-eede-c5e6aab67a03"
      },
      "source": [
        "# Symmetric normalized Laplacian\n",
        "L_sym = (D**(-0.5))*L*(D**(-0.5))\n",
        "L_sym = np.nan_to_num(L_sym, nan=0., neginf=-np.inf)\n",
        "L_sym"
      ],
      "execution_count": null,
      "outputs": [
        {
          "output_type": "execute_result",
          "data": {
            "text/plain": [
              "array([[  1., -inf, -inf, -inf],\n",
              "       [-inf,   1., -inf, -inf],\n",
              "       [-inf, -inf,   1.,   0.],\n",
              "       [-inf, -inf,   0.,   1.]])"
            ]
          },
          "metadata": {
            "tags": []
          },
          "execution_count": 102
        }
      ]
    },
    {
      "cell_type": "code",
      "metadata": {
        "colab": {
          "base_uri": "https://localhost:8080/"
        },
        "id": "UgarpNQ3o6J_",
        "outputId": "d53ec1af-9d1b-41f4-b927-64c4062da9a7"
      },
      "source": [
        "# Random walk normlized Laplacian\n",
        "L_rw = (D**-1)*L\n",
        "L_rw = np.nan_to_num(L_rw, nan=0., neginf=-np.inf)\n",
        "L_rw"
      ],
      "execution_count": null,
      "outputs": [
        {
          "output_type": "execute_result",
          "data": {
            "text/plain": [
              "array([[  1., -inf, -inf, -inf],\n",
              "       [-inf,   1., -inf, -inf],\n",
              "       [-inf, -inf,   1.,   0.],\n",
              "       [-inf, -inf,   0.,   1.]])"
            ]
          },
          "metadata": {
            "tags": []
          },
          "execution_count": 103
        }
      ]
    }
  ]
}