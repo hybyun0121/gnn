{
  "nbformat": 4,
  "nbformat_minor": 0,
  "metadata": {
    "colab": {
      "name": "play_on_Colab.ipynb",
      "provenance": [],
      "collapsed_sections": [],
      "mount_file_id": "1Crj8xHbkHBEpkRBtcEEZTLzffHroXvCI",
      "authorship_tag": "ABX9TyNn8Bh+eRhJym0m+BiExXbF",
      "include_colab_link": true
    },
    "kernelspec": {
      "name": "python3",
      "display_name": "Python 3"
    },
    "language_info": {
      "name": "python"
    }
  },
  "cells": [
    {
      "cell_type": "markdown",
      "metadata": {
        "id": "view-in-github",
        "colab_type": "text"
      },
      "source": [
        "<a href=\"https://colab.research.google.com/github/hybyun0121/gnn/blob/main/gnnconv/play_on_Colab.ipynb\" target=\"_parent\"><img src=\"https://colab.research.google.com/assets/colab-badge.svg\" alt=\"Open In Colab\"/></a>"
      ]
    },
    {
      "cell_type": "code",
      "metadata": {
        "colab": {
          "base_uri": "https://localhost:8080/"
        },
        "id": "MMhSC7lu8z8F",
        "outputId": "cd24087f-a5bd-4031-e78c-dc7aac7a02d1"
      },
      "source": [
        "# Add this in a Google Colab cell to install the correct version of Pytorch Geometric.\n",
        "import torch\n",
        "\n",
        "def format_pytorch_version(version):\n",
        "  return version.split('+')[0]\n",
        "\n",
        "TORCH_version = torch.__version__\n",
        "TORCH = format_pytorch_version(TORCH_version)\n",
        "print(TORCH)\n",
        "\n",
        "def format_cuda_version(version):\n",
        "  return 'cu' + version.replace('.', '')\n",
        "\n",
        "CUDA_version = torch.version.cuda\n",
        "CUDA = format_cuda_version(CUDA_version)\n",
        "print(CUDA)\n",
        "\n",
        "!pip install torch-scatter     -q -f https://pytorch-geometric.com/whl/torch-{TORCH}+{CUDA}.html\n",
        "!pip install torch-sparse      -q -f https://pytorch-geometric.com/whl/torch-{TORCH}+{CUDA}.html\n",
        "!pip install torch-cluster     -q -f https://pytorch-geometric.com/whl/torch-{TORCH}+{CUDA}.html\n",
        "!pip install torch-spline-conv -q -f https://pytorch-geometric.com/whl/torch-{TORCH}+{CUDA}.html\n",
        "!pip install -q torch-geometric"
      ],
      "execution_count": 1,
      "outputs": [
        {
          "output_type": "stream",
          "text": [
            "1.9.0\n",
            "cu102\n",
            "\u001b[K     |████████████████████████████████| 2.6 MB 25.0 MB/s \n",
            "\u001b[K     |████████████████████████████████| 1.4 MB 28.5 MB/s \n",
            "\u001b[K     |████████████████████████████████| 926 kB 31.6 MB/s \n",
            "\u001b[K     |████████████████████████████████| 382 kB 25.3 MB/s \n",
            "\u001b[K     |████████████████████████████████| 222 kB 27.7 MB/s \n",
            "\u001b[K     |████████████████████████████████| 376 kB 50.5 MB/s \n",
            "\u001b[K     |████████████████████████████████| 45 kB 3.4 MB/s \n",
            "\u001b[?25h  Building wheel for torch-geometric (setup.py) ... \u001b[?25l\u001b[?25hdone\n"
          ],
          "name": "stdout"
        }
      ]
    },
    {
      "cell_type": "code",
      "metadata": {
        "colab": {
          "base_uri": "https://localhost:8080/"
        },
        "id": "1XIR5iwf9H2M",
        "outputId": "ddc6a11a-8585-47b8-f191-12239b33620f"
      },
      "source": [
        "cd /content/drive/MyDrive/dnn/gnnconv"
      ],
      "execution_count": 16,
      "outputs": [
        {
          "output_type": "stream",
          "text": [
            "/content/drive/MyDrive/dnn/gnnconv\n"
          ],
          "name": "stdout"
        }
      ]
    },
    {
      "cell_type": "code",
      "metadata": {
        "colab": {
          "base_uri": "https://localhost:8080/"
        },
        "id": "vp5TspQi9Q8l",
        "outputId": "fbc1b5c6-ed34-4437-f338-2baa28db78a6"
      },
      "source": [
        "!python main.py --model_type GAT"
      ],
      "execution_count": 45,
      "outputs": [
        {
          "output_type": "stream",
          "text": [
            "Node task. test set size: 140\n",
            "epoch: 0 train_loss: 1.956 val_acc: 0.082\n",
            "epoch: 10 train_loss: 1.100 val_acc: 0.564\n",
            "epoch: 20 train_loss: 0.156 val_acc: 0.68\n",
            "epoch: 30 train_loss: 0.089 val_acc: 0.69\n",
            "epoch: 40 train_loss: 0.107 val_acc: 0.71\n",
            "Maximum accuracy: 0.71\n",
            "Minimum loss: 0.0721404105424881\n",
            "<Figure size 640x480 with 1 Axes>\n"
          ],
          "name": "stdout"
        }
      ]
    }
  ]
}